{
  "cells": [
    {
      "cell_type": "markdown",
      "metadata": {
        "id": "view-in-github",
        "colab_type": "text"
      },
      "source": [
        "<a href=\"https://colab.research.google.com/github/DataEngineering-Amber/Collabs-and-Assignments/blob/main/Completed_9_29_assignment.ipynb\" target=\"_parent\"><img src=\"https://colab.research.google.com/assets/colab-badge.svg\" alt=\"Open In Colab\"/></a>"
      ]
    },
    {
      "cell_type": "markdown",
      "id": "c8a0b8a7",
      "metadata": {
        "id": "c8a0b8a7"
      },
      "source": [
        "# Flask App for Downloading Data from JSONPlaceholder into ORM Models\n",
        "\n",
        "In this notebook, we will build a Flask app to download data from `jsonplaceholder.typicode.com`, store it in a database using SQLAlchemy ORM, and test the ORM models and relationships.\n",
        "\n",
        "We will create the following tables:\n",
        "- Users\n",
        "- Posts\n",
        "- Comments\n",
        "- Albums\n",
        "- Photos\n",
        "- Todos\n",
        "\n",
        "Let's get started!"
      ]
    },
    {
      "cell_type": "markdown",
      "id": "24b9f275",
      "metadata": {
        "id": "24b9f275"
      },
      "source": [
        "## 1. Flask Setup with SQLAlchemy ORM\n",
        "\n",
        "We will use Flask as the web framework and SQLAlchemy as the ORM to manage the database. First, let's initialize our app and configure the database."
      ]
    },
    {
      "cell_type": "code",
      "execution_count": 1,
      "id": "de3ac81d",
      "metadata": {
        "colab": {
          "base_uri": "https://localhost:8080/"
        },
        "id": "de3ac81d",
        "outputId": "9066e0dd-0147-4210-9d49-859e68abf5ed"
      },
      "outputs": [
        {
          "output_type": "stream",
          "name": "stdout",
          "text": [
            "Requirement already satisfied: Flask in /usr/local/lib/python3.11/dist-packages (3.1.0)\n",
            "Requirement already satisfied: SQLAlchemy in /usr/local/lib/python3.11/dist-packages (2.0.38)\n",
            "Requirement already satisfied: requests in /usr/local/lib/python3.11/dist-packages (2.32.3)\n",
            "Requirement already satisfied: pytest in /usr/local/lib/python3.11/dist-packages (8.3.4)\n",
            "Collecting Flask-SQLAlchemy\n",
            "  Downloading flask_sqlalchemy-3.1.1-py3-none-any.whl.metadata (3.4 kB)\n",
            "Requirement already satisfied: Werkzeug>=3.1 in /usr/local/lib/python3.11/dist-packages (from Flask) (3.1.3)\n",
            "Requirement already satisfied: Jinja2>=3.1.2 in /usr/local/lib/python3.11/dist-packages (from Flask) (3.1.5)\n",
            "Requirement already satisfied: itsdangerous>=2.2 in /usr/local/lib/python3.11/dist-packages (from Flask) (2.2.0)\n",
            "Requirement already satisfied: click>=8.1.3 in /usr/local/lib/python3.11/dist-packages (from Flask) (8.1.8)\n",
            "Requirement already satisfied: blinker>=1.9 in /usr/local/lib/python3.11/dist-packages (from Flask) (1.9.0)\n",
            "Requirement already satisfied: greenlet!=0.4.17 in /usr/local/lib/python3.11/dist-packages (from SQLAlchemy) (3.1.1)\n",
            "Requirement already satisfied: typing-extensions>=4.6.0 in /usr/local/lib/python3.11/dist-packages (from SQLAlchemy) (4.12.2)\n",
            "Requirement already satisfied: charset-normalizer<4,>=2 in /usr/local/lib/python3.11/dist-packages (from requests) (3.4.1)\n",
            "Requirement already satisfied: idna<4,>=2.5 in /usr/local/lib/python3.11/dist-packages (from requests) (3.10)\n",
            "Requirement already satisfied: urllib3<3,>=1.21.1 in /usr/local/lib/python3.11/dist-packages (from requests) (2.3.0)\n",
            "Requirement already satisfied: certifi>=2017.4.17 in /usr/local/lib/python3.11/dist-packages (from requests) (2025.1.31)\n",
            "Requirement already satisfied: iniconfig in /usr/local/lib/python3.11/dist-packages (from pytest) (2.0.0)\n",
            "Requirement already satisfied: packaging in /usr/local/lib/python3.11/dist-packages (from pytest) (24.2)\n",
            "Requirement already satisfied: pluggy<2,>=1.5 in /usr/local/lib/python3.11/dist-packages (from pytest) (1.5.0)\n",
            "Requirement already satisfied: MarkupSafe>=2.0 in /usr/local/lib/python3.11/dist-packages (from Jinja2>=3.1.2->Flask) (3.0.2)\n",
            "Downloading flask_sqlalchemy-3.1.1-py3-none-any.whl (25 kB)\n",
            "Installing collected packages: Flask-SQLAlchemy\n",
            "Successfully installed Flask-SQLAlchemy-3.1.1\n"
          ]
        }
      ],
      "source": [
        "# Install necessary packages\n",
        "!pip install Flask SQLAlchemy requests pytest Flask-SQLAlchemy"
      ]
    },
    {
      "cell_type": "code",
      "execution_count": 2,
      "id": "28561df9",
      "metadata": {
        "id": "28561df9"
      },
      "outputs": [],
      "source": [
        "# Flask app setup with SQLAlchemy ORM\n",
        "from flask import Flask\n",
        "from flask_sqlalchemy import SQLAlchemy\n",
        "\n",
        "app = Flask(__name__)\n",
        "app.config['SQLALCHEMY_DATABASE_URI'] = 'sqlite:///jsonplaceholder.db'\n",
        "app.config['SQLALCHEMY_TRACK_MODIFICATIONS'] = False\n",
        "\n",
        "db = SQLAlchemy(app)\n",
        "\n",
        "# Define the ORM models"
      ]
    },
    {
      "cell_type": "code",
      "execution_count": 3,
      "id": "417013cb",
      "metadata": {
        "id": "417013cb"
      },
      "outputs": [],
      "source": [
        "# User model\n",
        "class User(db.Model):\n",
        "    __tablename__ = 'users'\n",
        "    id = db.Column(db.Integer, primary_key=True)\n",
        "    name = db.Column(db.String(80))\n",
        "    username = db.Column(db.String(80))\n",
        "    email = db.Column(db.String(120))\n",
        "    address = db.Column(db.String(200))\n",
        "    phone = db.Column(db.String(20))\n",
        "    website = db.Column(db.String(100))\n",
        "    company = db.Column(db.String(100))\n",
        "\n",
        "    posts = db.relationship('Post', backref='user', lazy=True)\n",
        "    albums = db.relationship('Album', backref='user', lazy=True)\n",
        "    todos = db.relationship('Todo', backref='user', lazy=True)\n"
      ]
    },
    {
      "cell_type": "code",
      "execution_count": 4,
      "id": "48943a95",
      "metadata": {
        "id": "48943a95"
      },
      "outputs": [],
      "source": [
        "# Post model\n",
        "class Post(db.Model):\n",
        "    __tablename__ = 'posts'\n",
        "    id = db.Column(db.Integer, primary_key=True)\n",
        "    user_id = db.Column(db.Integer, db.ForeignKey('users.id'), nullable=False)\n",
        "    title = db.Column(db.String(200))\n",
        "    body = db.Column(db.Text)\n",
        "\n",
        "    comments = db.relationship('Comment', backref='post', lazy=True)\n"
      ]
    },
    {
      "cell_type": "code",
      "execution_count": 5,
      "id": "cc9f8b7d",
      "metadata": {
        "id": "cc9f8b7d"
      },
      "outputs": [],
      "source": [
        "# Comment model\n",
        "class Comment(db.Model):\n",
        "    __tablename__ = 'comments'\n",
        "    id = db.Column(db.Integer, primary_key=True)\n",
        "    post_id = db.Column(db.Integer, db.ForeignKey('posts.id'), nullable=False)\n",
        "    name = db.Column(db.String(80))\n",
        "    email = db.Column(db.String(120))\n",
        "    body = db.Column(db.Text)\n"
      ]
    },
    {
      "cell_type": "code",
      "execution_count": 6,
      "id": "9ae660b1",
      "metadata": {
        "id": "9ae660b1"
      },
      "outputs": [],
      "source": [
        "# Album model\n",
        "class Album(db.Model):\n",
        "    __tablename__ = 'albums'\n",
        "    id = db.Column(db.Integer, primary_key=True)\n",
        "    user_id = db.Column(db.Integer, db.ForeignKey('users.id'), nullable=False)\n",
        "    title = db.Column(db.String(200))\n",
        "\n",
        "    photos = db.relationship('Photo', backref='album', lazy=True)\n"
      ]
    },
    {
      "cell_type": "code",
      "execution_count": 7,
      "id": "9eef1dc7",
      "metadata": {
        "id": "9eef1dc7"
      },
      "outputs": [],
      "source": [
        "# Photo model\n",
        "class Photo(db.Model):\n",
        "    __tablename__ = 'photos'\n",
        "    id = db.Column(db.Integer, primary_key=True)\n",
        "    album_id = db.Column(db.Integer, db.ForeignKey('albums.id'), nullable=False)\n",
        "    title = db.Column(db.String(200))\n",
        "    url = db.Column(db.String(300))\n",
        "    thumbnail_url = db.Column(db.String(300))\n"
      ]
    },
    {
      "cell_type": "code",
      "execution_count": 8,
      "id": "d191f904",
      "metadata": {
        "id": "d191f904"
      },
      "outputs": [],
      "source": [
        "# Todo model\n",
        "class Todo(db.Model):\n",
        "    __tablename__ = 'todos'\n",
        "    id = db.Column(db.Integer, primary_key=True)\n",
        "    user_id = db.Column(db.Integer, db.ForeignKey('users.id'), nullable=False)\n",
        "    title = db.Column(db.String(200))\n",
        "    completed = db.Column(db.Boolean)\n"
      ]
    },
    {
      "cell_type": "markdown",
      "id": "13fa9547",
      "metadata": {
        "id": "13fa9547"
      },
      "source": [
        "## 2. Downloading Data from JSONPlaceholder\n",
        "\n",
        "Now, let's write a function to download data from `jsonplaceholder.typicode.com` and insert it into our database."
      ]
    },
    {
      "cell_type": "code",
      "execution_count": 9,
      "id": "55e49528",
      "metadata": {
        "id": "55e49528"
      },
      "outputs": [],
      "source": [
        "# Function to download and insert data from JSONPlaceholder\n",
        "import requests\n",
        "\n",
        "with app.app_context():\n",
        "  db.create_all()\n",
        "\n",
        "  def download_data():\n",
        "      # Download users\n",
        "      users = requests.get('https://jsonplaceholder.typicode.com/users').json()\n",
        "      for user_data in users:\n",
        "          user = User(id=user_data['id'], name=user_data['name'], username=user_data['username'],\n",
        "                    email=user_data['email'], address=str(user_data['address']), phone=user_data['phone'],\n",
        "                    website=user_data['website'], company=str(user_data['company']))\n",
        "          db.session.add(user)\n",
        "      db.session.commit()\n",
        "\n",
        "      # Download posts\n",
        "      posts = requests.get('https://jsonplaceholder.typicode.com/posts').json()\n",
        "      for post_data in posts:\n",
        "          post = Post(id=post_data['id'], user_id=post_data['userId'], title=post_data['title'],\n",
        "                      body=post_data['body'])\n",
        "          db.session.add(post)\n",
        "      db.session.commit()\n",
        "\n",
        "      # Download comments\n",
        "      comments = requests.get('https://jsonplaceholder.typicode.com/comments').json()\n",
        "      for comment_data in comments:\n",
        "          comment = Comment(id=comment_data['id'], post_id=comment_data['postId'],\n",
        "                        name=comment_data['name'], email=comment_data['email'], body=comment_data['body'])\n",
        "          db.session.add(comment)\n",
        "      db.session.commit()\n",
        "\n",
        "      # Download albums, photos, and todos similarly\n",
        "  download_data()"
      ]
    },
    {
      "cell_type": "markdown",
      "id": "748dba74",
      "metadata": {
        "id": "748dba74"
      },
      "source": [
        "## 3. Pytest for ORM Models and Relationships\n",
        "\n",
        "Let's now add unit tests using `pytest` to ensure our models and their relationships are correct."
      ]
    },
    {
      "cell_type": "code",
      "execution_count": 10,
      "id": "5c54786d",
      "metadata": {
        "id": "5c54786d"
      },
      "outputs": [],
      "source": [
        "# Pytest setup\n",
        "import pytest\n",
        "\n",
        "@pytest.fixture(scope='module')\n",
        "def test_client():\n",
        "    app.config['TESTING'] = True\n",
        "    with app.test_client() as testing_client:\n",
        "        with app.app_context():\n",
        "            db.create_all()\n",
        "            yield testing_client\n",
        "            db.drop_all()\n"
      ]
    },
    {
      "cell_type": "code",
      "execution_count": 11,
      "id": "a18a091b",
      "metadata": {
        "id": "a18a091b"
      },
      "outputs": [],
      "source": [
        "with app.app_context():\n",
        "    # Test for models and relationships\n",
        "    def test_user_creation(test_client):\n",
        "        user = User(name='Test User', username='testuser',\n",
        "                    email='test@example.com', address='Test Address', phone='1234567890',\n",
        "                    website='https://example.com', company='Test Company')\n",
        "        db.session.add(user)\n",
        "        db.session.commit()\n",
        "        assert user in db.session\n",
        "\n",
        "    def test_post_creation(test_client):\n",
        "        user = User.query.first()\n",
        "        post = Post(user_id=user.id, title='Test Post', body='Test Body')\n",
        "        db.session.add(post)\n",
        "        db.session.commit()\n",
        "        assert post in db.session\n",
        "\n",
        "    def test_comment_creation(test_client):\n",
        "        post = Post.query.first()\n",
        "        comment = Comment(post_id=post.id, name='Test Comment',\n",
        "                          email='comment@example.com', body='Comment Body')\n",
        "        db.session.add(comment)\n",
        "        db.session.commit()\n",
        "        assert comment in db.session"
      ]
    },
    {
      "cell_type": "markdown",
      "id": "9cb1d139",
      "metadata": {
        "id": "9cb1d139"
      },
      "source": [
        "## 4. Exercises: Querying Data and Relationships Using SQLAlchemy ORM with Unit Tests\n",
        "\n",
        "In these exercises, you will practice querying data and relationships using the SQLAlchemy ORM and writing unit tests using `pytest`. Each exercise focuses on specific relationships between models like Users, Posts, Comments, Albums, and Todos.\n",
        "\n",
        "Complete each exercise by writing the necessary query and writing a corresponding unit test."
      ]
    },
    {
      "cell_type": "markdown",
      "id": "1a967073",
      "metadata": {
        "id": "1a967073"
      },
      "source": [
        "### Exercise 1: Query All Users\n",
        "\n",
        "Write a query to retrieve all users from the `users` table and display their names and emails.\n",
        "\n",
        "**Unit Test**: Write a unit test that checks if at least one user exists in the database."
      ]
    },
    {
      "cell_type": "code",
      "execution_count": 12,
      "id": "e91eab22",
      "metadata": {
        "colab": {
          "base_uri": "https://localhost:8080/"
        },
        "id": "e91eab22",
        "outputId": "8750eb34-f995-4eac-bf08-fccf0a2afeed"
      },
      "outputs": [
        {
          "output_type": "stream",
          "name": "stdout",
          "text": [
            "Leanne Graham Sincere@april.biz\n",
            "Ervin Howell Shanna@melissa.tv\n",
            "Clementine Bauch Nathan@yesenia.net\n",
            "Patricia Lebsack Julianne.OConner@kory.org\n",
            "Chelsey Dietrich Lucio_Hettinger@annie.ca\n",
            "Mrs. Dennis Schulist Karley_Dach@jasper.info\n",
            "Kurtis Weissnat Telly.Hoeger@billy.biz\n",
            "Nicholas Runolfsdottir V Sherwood@rosamond.me\n",
            "Glenna Reichert Chaim_McDermott@dana.io\n",
            "Clementina DuBuque Rey.Padberg@karina.biz\n"
          ]
        }
      ],
      "source": [
        "with app.app_context():\n",
        "    # Query for all users\n",
        "    users = User.query.all()\n",
        "    for user in users:\n",
        "        print(user.name, user.email)\n",
        "\n",
        "    # Unit test example\n",
        "    def test_query_all_users(test_client):\n",
        "        users = User.query.all()\n",
        "        assert len(users) > 0"
      ]
    },
    {
      "cell_type": "markdown",
      "id": "04fcd3ba",
      "metadata": {
        "id": "04fcd3ba"
      },
      "source": [
        "### Exercise 2: Get Posts by a Specific User\n",
        "\n",
        "Write a query to retrieve all posts by a user with a specific username (e.g., `Bret`). Print the titles of the posts.\n",
        "\n",
        "**Unit Test**: Write a unit test that checks if the correct number of posts is returned for the user."
      ]
    },
    {
      "cell_type": "code",
      "execution_count": 13,
      "id": "3da62983",
      "metadata": {
        "colab": {
          "base_uri": "https://localhost:8080/",
          "height": 124
        },
        "id": "3da62983",
        "outputId": "cdcd4b7a-8ca8-4013-9f91-e5ff8d47e9ca"
      },
      "outputs": [
        {
          "output_type": "error",
          "ename": "SyntaxError",
          "evalue": "incomplete input (<ipython-input-13-b7d2b5ad81cf>, line 7)",
          "traceback": [
            "\u001b[0;36m  File \u001b[0;32m\"<ipython-input-13-b7d2b5ad81cf>\"\u001b[0;36m, line \u001b[0;32m7\u001b[0m\n\u001b[0;31m    # write the test here\u001b[0m\n\u001b[0m                         ^\u001b[0m\n\u001b[0;31mSyntaxError\u001b[0m\u001b[0;31m:\u001b[0m incomplete input\n"
          ]
        }
      ],
      "source": [
        "with app.app_context():\n",
        "    # Query for posts by a specific user\n",
        "\n",
        "\n",
        "    # Unit test example\n",
        "    def test_query_user_posts(test_client):\n",
        "     # write the test here"
      ]
    },
    {
      "cell_type": "code",
      "source": [
        "with app.app_context():\n",
        "    # Query posts by user with username 'Bret'\n",
        "    user = User.query.filter_by(username='Bret').first()\n",
        "    if user:\n",
        "        posts = Post.query.filter_by(user_id=user.id).all()\n",
        "        for post in posts:\n",
        "            print(post.title)\n",
        "    else:\n",
        "        print(\"User not found\")\n"
      ],
      "metadata": {
        "colab": {
          "base_uri": "https://localhost:8080/"
        },
        "id": "kKu5AR6el3qp",
        "outputId": "f56fae62-9898-4c18-e8be-58cbb65b49b6"
      },
      "id": "kKu5AR6el3qp",
      "execution_count": 15,
      "outputs": [
        {
          "output_type": "stream",
          "name": "stdout",
          "text": [
            "sunt aut facere repellat provident occaecati excepturi optio reprehenderit\n",
            "qui est esse\n",
            "ea molestias quasi exercitationem repellat qui ipsa sit aut\n",
            "eum et est occaecati\n",
            "nesciunt quas odio\n",
            "dolorem eum magni eos aperiam quia\n",
            "magnam facilis autem\n",
            "dolorem dolore est ipsam\n",
            "nesciunt iure omnis dolorem tempora et accusantium\n",
            "optio molestias id quia eum\n"
          ]
        }
      ]
    },
    {
      "cell_type": "code",
      "source": [
        "def test_query_user_posts(test_client):\n",
        "    with app.app_context():\n",
        "        user = User.query.filter_by(username='Bret').first()\n",
        "        assert user is not None  # Make sure the user exists\n",
        "\n",
        "        posts = Post.query.filter_by(user_id=user.id).all()\n",
        "        assert len(posts) > 0  # Check that user has at least one post"
      ],
      "metadata": {
        "id": "75NmRc3Ql9gh"
      },
      "id": "75NmRc3Ql9gh",
      "execution_count": 16,
      "outputs": []
    },
    {
      "cell_type": "code",
      "source": [],
      "metadata": {
        "id": "PXPzffvRl-uR"
      },
      "id": "PXPzffvRl-uR",
      "execution_count": null,
      "outputs": []
    },
    {
      "cell_type": "markdown",
      "id": "bd1fc27a",
      "metadata": {
        "id": "bd1fc27a"
      },
      "source": [
        "### Exercise 3: Get Comments on a Specific Post\n",
        "\n",
        "Write a query to retrieve all comments for a post with a specific title (e.g., `qui est esse`). Print the names and emails of the commenters.\n",
        "\n",
        "**Unit Test**: Write a unit test that checks if the comments are correctly associated with the post."
      ]
    },
    {
      "cell_type": "code",
      "execution_count": null,
      "id": "66d71417",
      "metadata": {
        "colab": {
          "base_uri": "https://localhost:8080/"
        },
        "id": "66d71417",
        "outputId": "a280fe38-fd45-4d4b-f918-bb2d9fa1a421"
      },
      "outputs": [
        {
          "output_type": "stream",
          "name": "stdout",
          "text": [
            "et fugit eligendi deleniti quidem qui sint nihil autem Presley.Mueller@myrl.com\n",
            "repellat consequatur praesentium vel minus molestias voluptatum Dallas@ole.me\n",
            "et omnis dolorem Mallory_Kunze@marie.org\n",
            "provident id voluptas Meghan_Littel@rene.us\n",
            "eaque et deleniti atque tenetur ut quo ut Carmen_Keeling@caroline.name\n"
          ]
        }
      ],
      "source": [
        "with app.app_context():\n",
        "  # Query for comments on a specific post\n",
        "\n",
        "\n",
        "  # Unit test example\n",
        "  def test_query_post_comments(test_client):\n",
        "      #write the test here"
      ]
    },
    {
      "cell_type": "code",
      "source": [
        "with app.app_context():\n",
        "    # Query for comments on the post titled 'qui est esse'\n",
        "    post = Post.query.filter_by(title='qui est esse').first()\n",
        "    if post:\n",
        "        comments = Comment.query.filter_by(post_id=post.id).all()\n",
        "        for comment in comments:\n",
        "            print(comment.name, comment.email)\n",
        "    else:\n",
        "        print(\"Post not found\")\n"
      ],
      "metadata": {
        "colab": {
          "base_uri": "https://localhost:8080/"
        },
        "id": "xKuJV-YAmUM4",
        "outputId": "2fa953e8-00bb-4a5c-d13b-e46e06901a73"
      },
      "id": "xKuJV-YAmUM4",
      "execution_count": 17,
      "outputs": [
        {
          "output_type": "stream",
          "name": "stdout",
          "text": [
            "et fugit eligendi deleniti quidem qui sint nihil autem Presley.Mueller@myrl.com\n",
            "repellat consequatur praesentium vel minus molestias voluptatum Dallas@ole.me\n",
            "et omnis dolorem Mallory_Kunze@marie.org\n",
            "provident id voluptas Meghan_Littel@rene.us\n",
            "eaque et deleniti atque tenetur ut quo ut Carmen_Keeling@caroline.name\n"
          ]
        }
      ]
    },
    {
      "cell_type": "code",
      "source": [
        "def test_query_post_comments(test_client):\n",
        "    with app.app_context():\n",
        "        post = Post.query.filter_by(title='qui est esse').first()\n",
        "        assert post is not None  # Make sure the post exists\n",
        "\n",
        "        comments = Comment.query.filter_by(post_id=post.id).all()\n",
        "        assert len(comments) > 0  # Check that post has at least one comment\n"
      ],
      "metadata": {
        "id": "IFDW5YRmmVoP"
      },
      "id": "IFDW5YRmmVoP",
      "execution_count": 18,
      "outputs": []
    },
    {
      "cell_type": "code",
      "source": [
        "with app.app_context():\n",
        "    db.session.remove()  # Properly closes the session\n",
        "    db.engine.dispose()  # Closes the database connection\n",
        "    print(\"Database connection closed successfully!\")\n"
      ],
      "metadata": {
        "colab": {
          "base_uri": "https://localhost:8080/"
        },
        "id": "8RsumVv3mmIR",
        "outputId": "d481be00-4ca8-4a05-84e2-6d74375e83d5"
      },
      "id": "8RsumVv3mmIR",
      "execution_count": 21,
      "outputs": [
        {
          "output_type": "stream",
          "name": "stdout",
          "text": [
            "Database connection closed successfully!\n"
          ]
        }
      ]
    }
  ],
  "metadata": {
    "colab": {
      "provenance": [],
      "include_colab_link": true
    },
    "kernelspec": {
      "display_name": "Python 3",
      "name": "python3"
    },
    "language_info": {
      "name": "python"
    }
  },
  "nbformat": 4,
  "nbformat_minor": 5
}
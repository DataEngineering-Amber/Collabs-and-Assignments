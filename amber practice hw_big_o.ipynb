{
  "nbformat": 4,
  "nbformat_minor": 0,
  "metadata": {
    "colab": {
      "provenance": [],
      "include_colab_link": true
    },
    "kernelspec": {
      "name": "python3",
      "display_name": "Python 3"
    },
    "language_info": {
      "name": "python"
    }
  },
  "cells": [
    {
      "cell_type": "markdown",
      "metadata": {
        "id": "view-in-github",
        "colab_type": "text"
      },
      "source": [
        "<a href=\"https://colab.research.google.com/github/DataEngineering-Amber/Collabs-and-Assignments/blob/main/amber%20practice%20hw_big_o.ipynb\" target=\"_parent\"><img src=\"https://colab.research.google.com/assets/colab-badge.svg\" alt=\"Open In Colab\"/></a>"
      ]
    },
    {
      "cell_type": "markdown",
      "source": [],
      "metadata": {
        "id": "aoCqoJN8w1Jz"
      }
    },
    {
      "cell_type": "markdown",
      "source": [
        "# Big-O Notation Practice Problems\n",
        "\n",
        "## Instructions: For each of the following code snippets, determine the Big-O notation that best describes the time complexity of the algorithm.\n",
        "\n",
        "## Make a copy of this file and attach the submission to the google classroom assignment"
      ],
      "metadata": {
        "id": "u1M6_HkXw-ii"
      }
    },
    {
      "cell_type": "code",
      "source": [
        "# Problem 1\n",
        "def problem1(n):\n",
        "  \"\"\"What is the Big-O of this function?\"\"\"\n",
        "  for i in range(n):\n",
        "    print(i)"
      ],
      "metadata": {
        "id": "jd2HzEuwxCyk"
      },
      "execution_count": 1,
      "outputs": []
    },
    {
      "cell_type": "code",
      "source": [
        "# Problem 2\n",
        "def problem2(n):\n",
        "  \"\"\"What is the Big-O of this function?\"\"\"\n",
        "  for i in range(n):\n",
        "    for j in range(n):\n",
        "      print(i, j)"
      ],
      "metadata": {
        "id": "f2wvke3nxF1B"
      },
      "execution_count": 2,
      "outputs": []
    },
    {
      "cell_type": "code",
      "source": [
        "# Problem 3\n",
        "def problem3(n):\n",
        "  \"\"\"What is the Big-O of this function?\"\"\"\n",
        "  print(n)"
      ],
      "metadata": {
        "id": "IACQ0k3ixHrk"
      },
      "execution_count": 3,
      "outputs": []
    },
    {
      "cell_type": "code",
      "source": [
        "# Problem 4\n",
        "def problem4(n):\n",
        "  \"\"\"What is the Big-O of this function?\"\"\"\n",
        "  i = 1\n",
        "  while i < n:\n",
        "    i *= 2\n",
        "    print(i)"
      ],
      "metadata": {
        "id": "IP7gon7lxLEn"
      },
      "execution_count": 4,
      "outputs": []
    },
    {
      "source": [
        "# Problem 5\n",
        "def problem5(n):\n",
        "  \"\"\"What is the Big-O of this function?\"\"\"\n",
        "  for i in range(n):\n",
        "    print(i)\n",
        "  for j in range(n):\n",
        "    print(j)"
      ],
      "cell_type": "code",
      "metadata": {
        "id": "SK_9Oo7Qw3b-"
      },
      "execution_count": 5,
      "outputs": []
    },
    {
      "cell_type": "code",
      "source": [
        "# Big‑O Notation Practice Problems\n",
        "# — completed answer key —\n",
        "\n",
        "# Problem 1\n",
        "def problem1(n):\n",
        "    \"\"\"Time complexity:  O(n)\"\"\"\n",
        "    for i in range(n):\n",
        "        print(i)\n",
        "\n",
        "\n",
        "# Problem 2\n",
        "def problem2(n):\n",
        "    \"\"\"Time complexity:  O(n²)\"\"\"\n",
        "    for i in range(n):\n",
        "        for j in range(n):\n",
        "            print(i, j)\n",
        "\n",
        "\n",
        "# Problem 3\n",
        "def problem3(n):\n",
        "    \"\"\"Time complexity:  O(1)\"\"\"\n",
        "    print(n)\n",
        "\n",
        "\n",
        "# Problem 4\n",
        "def problem4(n):\n",
        "    \"\"\"Time complexity:  O(log n)   # (base 2, since i doubles each loop)\"\"\"\n",
        "    i = 1\n",
        "    while i < n:\n",
        "        i *= 2\n",
        "        print(i)\n",
        "\n",
        "\n",
        "# Problem 5\n",
        "def problem5(n):\n",
        "    \"\"\"Time complexity:  O(n)\"\"\"\n",
        "    for i in range(n):\n",
        "        print(i)\n",
        "    for j in range(n):\n",
        "        print(j)\n"
      ],
      "metadata": {
        "id": "bcPOAt1dewK0"
      },
      "execution_count": 7,
      "outputs": []
    },
    {
      "cell_type": "code",
      "source": [
        "# Run this in a new cell after the definitions\n",
        "print(\"problem1:\")\n",
        "problem1(5)        # prints 0‑4\n",
        "\n",
        "print(\"\\nproblem2:\")\n",
        "problem2(3)        # prints (row,column) pairs\n",
        "\n",
        "print(\"\\nproblem3:\")\n",
        "problem3(42)       # prints 42\n",
        "\n",
        "print(\"\\nproblem4:\")\n",
        "problem4(20)       # prints powers of 2 below 20\n",
        "\n",
        "print(\"\\nproblem5:\")\n",
        "problem5(4)        # prints two sequences 0‑3\n"
      ],
      "metadata": {
        "colab": {
          "base_uri": "https://localhost:8080/"
        },
        "id": "ir9NKFwAfEzr",
        "outputId": "866d591e-4319-4999-82df-b7658a0261ec"
      },
      "execution_count": 8,
      "outputs": [
        {
          "output_type": "stream",
          "name": "stdout",
          "text": [
            "problem1:\n",
            "0\n",
            "1\n",
            "2\n",
            "3\n",
            "4\n",
            "\n",
            "problem2:\n",
            "0 0\n",
            "0 1\n",
            "0 2\n",
            "1 0\n",
            "1 1\n",
            "1 2\n",
            "2 0\n",
            "2 1\n",
            "2 2\n",
            "\n",
            "problem3:\n",
            "42\n",
            "\n",
            "problem4:\n",
            "2\n",
            "4\n",
            "8\n",
            "16\n",
            "32\n",
            "\n",
            "problem5:\n",
            "0\n",
            "1\n",
            "2\n",
            "3\n",
            "0\n",
            "1\n",
            "2\n",
            "3\n"
          ]
        }
      ]
    }
  ]
}